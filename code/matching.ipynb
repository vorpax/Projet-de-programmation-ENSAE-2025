{
 "cells": [
  {
   "cell_type": "code",
   "execution_count": null,
   "metadata": {},
   "outputs": [],
   "source": [
    "from grid import Grid\n",
    "\n",
    "DATA_PATH = \"../input/\"\n",
    "\n",
    "FILE_NAME = DATA_PATH + \"grid01.in\"\n",
    "grid = Grid.grid_from_file(FILE_NAME)\n",
    "\n",
    "grid.cell_init()\n",
    "\n",
    "# 1) Faire une matrice d'adjecence\n",
    "    # Quelle est la taille de la matrice d'adjecence ? (n,m) \\in ->     "
   ]
  },
  {
   "cell_type": "markdown",
   "metadata": {},
   "source": [
    "1) Faire matrice adjecence \n",
    "    Quelle taille matrice adjecence ? \n",
    "    Comment faire pour que $(n,m) \\in \\mbb{N}^2 \\mapsto \\mbb{N}$ "
   ]
  },
  {
   "cell_type": "markdown",
   "metadata": {},
   "source": []
  },
  {
   "cell_type": "markdown",
   "metadata": {},
   "source": []
  }
 ],
 "metadata": {
  "kernelspec": {
   "display_name": ".venv",
   "language": "python",
   "name": "python3"
  },
  "language_info": {
   "name": "python",
   "version": "3.13.1"
  }
 },
 "nbformat": 4,
 "nbformat_minor": 2
}
